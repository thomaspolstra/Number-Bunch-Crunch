{
 "cells": [
  {
   "cell_type": "code",
   "execution_count": 9,
   "metadata": {},
   "outputs": [
    {
     "name": "stdout",
     "output_type": "stream",
     "text": [
      "[*********************100%***********************]  5 of 5 completed\n",
      "[*********************100%***********************]  5 of 5 completed\n",
      "[*********************100%***********************]  5 of 5 completed\n",
      "[*********************100%***********************]  5 of 5 completed\n"
     ]
    }
   ],
   "source": [
    "import pandas as pd\n",
    "import yfinance as yf\n",
    "\n",
    "start_date = \"2010-01-01\"\n",
    "end_date = \"2022-12-31\"\n",
    "\n",
    "tech = ['AAPL', 'MSFT', 'GOOGL', 'AMZN', 'NVDA']\n",
    "biotech = ['JNJ', 'LLY', 'NVO', 'MRK', 'RHHBY']\n",
    "industrial = ['NEE', 'GE', 'F', 'UNP', 'SO']\n",
    "healthcare = ['PFE', 'ELV', 'CVS', 'AMGN', 'UNH']\n",
    "# crypto = ['BTC-USD', 'ETH-USD', 'BNB-USD', 'XRP-USD', 'ADA-USD']\n",
    "\n",
    "tickers = [tech, biotech, industrial, healthcare]\n",
    "names = [\"tech\", \"biotech\", \"industrial\", \"healthcare\"]\n",
    "\n",
    "for i in range(4):\n",
    "    data = yf.download(tickers[i], start=start_date, end=end_date)['Adj Close']\n",
    "    data.to_csv(f\"../data/{names[i]}_data.csv\")"
   ]
  }
 ],
 "metadata": {
  "kernelspec": {
   "display_name": "DataScience",
   "language": "python",
   "name": "python3"
  },
  "language_info": {
   "codemirror_mode": {
    "name": "ipython",
    "version": 3
   },
   "file_extension": ".py",
   "mimetype": "text/x-python",
   "name": "python",
   "nbconvert_exporter": "python",
   "pygments_lexer": "ipython3",
   "version": "3.11.3"
  },
  "orig_nbformat": 4
 },
 "nbformat": 4,
 "nbformat_minor": 2
}
