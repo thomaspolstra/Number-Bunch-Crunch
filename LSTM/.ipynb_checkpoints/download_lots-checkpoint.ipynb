{
 "cells": [
  {
   "cell_type": "code",
   "execution_count": 1,
   "id": "891f3c93",
   "metadata": {},
   "outputs": [],
   "source": [
    "from utils.gather_data import download_or_read_data"
   ]
  },
  {
   "cell_type": "code",
   "execution_count": 3,
   "id": "244f2531",
   "metadata": {},
   "outputs": [
    {
     "name": "stdout",
     "output_type": "stream",
     "text": [
      "Note: you may need to restart the kernel to use updated packages.\n"
     ]
    },
    {
     "name": "stderr",
     "output_type": "stream",
     "text": [
      "ERROR: Could not find a version that satisfies the requirement os (from versions: none)\n",
      "ERROR: No matching distribution found for os\n"
     ]
    }
   ],
   "source": [
    "pip install os"
   ]
  },
  {
   "cell_type": "code",
   "execution_count": 5,
   "id": "061c77f0",
   "metadata": {},
   "outputs": [],
   "source": [
    "import os\n",
    "os.makedirs('../data', exist_ok=True)\n",
    "\n",
    "\n",
    "file_path = os.path.abspath('../data/ticker_table.txt')\n",
    "all_symbols = []\n",
    "\n",
    "with open(file_path, 'r') as file:\n",
    "    for line in file:\n",
    "        all_symbols.append(line.split(' ')[-2])"
   ]
  },
  {
   "cell_type": "code",
   "execution_count": 6,
   "id": "fedb83f6",
   "metadata": {},
   "outputs": [
    {
     "data": {
      "text/plain": [
       "2003"
      ]
     },
     "execution_count": 6,
     "metadata": {},
     "output_type": "execute_result"
    }
   ],
   "source": [
    "len(all_symbols[1:])"
   ]
  },
  {
   "cell_type": "code",
   "execution_count": null,
   "id": "bbbb6d7d",
   "metadata": {},
   "outputs": [
    {
     "name": "stdout",
     "output_type": "stream",
     "text": [
      "[***************       32%                       ]  649 of 2003 completed"
     ]
    }
   ],
   "source": [
    "data = download_or_read_data(all_symbols[1:], start_date='2013-01-01', end_date='2022-12-31')"
   ]
  },
  {
   "cell_type": "code",
   "execution_count": 5,
   "id": "5b838386",
   "metadata": {},
   "outputs": [
    {
     "data": {
      "text/plain": [
       "900"
      ]
     },
     "execution_count": 5,
     "metadata": {},
     "output_type": "execute_result"
    }
   ],
   "source": [
    "len(data['Adj Close'].columns)"
   ]
  },
  {
   "cell_type": "code",
   "execution_count": null,
   "id": "e2c4ba84",
   "metadata": {},
   "outputs": [],
   "source": []
  }
 ],
 "metadata": {
  "kernelspec": {
   "display_name": "Python 3 (ipykernel)",
   "language": "python",
   "name": "python3"
  },
  "language_info": {
   "codemirror_mode": {
    "name": "ipython",
    "version": 3
   },
   "file_extension": ".py",
   "mimetype": "text/x-python",
   "name": "python",
   "nbconvert_exporter": "python",
   "pygments_lexer": "ipython3",
   "version": "3.10.9"
  }
 },
 "nbformat": 4,
 "nbformat_minor": 5
}
